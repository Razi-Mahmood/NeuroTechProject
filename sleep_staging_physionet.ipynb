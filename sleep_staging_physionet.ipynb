{
 "cells": [
  {
   "cell_type": "markdown",
   "metadata": {},
   "source": [
    "# Sleep staging on the Sleep Physionet dataset\n",
    "\n",
    "In this tutorial, we will learn how to train a convolutional neural network on raw EEG data to classify sleep stages.\n",
    "\n",
    "This tutorial is based on the [MNE-Python](https://mne.tools/stable/auto_tutorials/sample-datasets/plot_sleep.html) and [braindecode](https://braindecode.org/auto_examples/plot_sleep_staging.html) sleep staging examples, the [`mne-torch`](https://github.com/mne-tools/mne-torch) repository, as well as\n",
    "\n",
    "> Chambon, S., Galtier, M. N., Arnal, P. J., Wainrib, G., & Gramfort, A. (2018). A deep learning architecture for temporal sleep stage classification using multivariate and multimodal time series. IEEE Transactions on Neural Systems and Rehabilitation Engineering, 26(4), 758-769.\n",
    "\n",
    "## Sleep staging\n",
    "\n",
    "Sleep staging is the process of identifying the sleep stage someone is in by analyzing their EEG and other physiological signals. Sleep recordings are traditionally divided into 30-s windows, and one of five categories (\"stages\") is attributed to each window:\n",
    "\n",
    "1. W: wakefulness\n",
    "2. N1: light sleep\n",
    "3. N2: deeper sleep\n",
    "4. N3: deep sleep\n",
    "5. R: rapid eye movement\n",
    "\n",
    "Sleep staging usually relies on capturing changes in the spectral properties of the EEG as well as transient events (e.g., sleep spindles, k-complexes, slow waves, etc.) that occur under the different sleep stages.\n",
    "\n",
    "In this tutorial, we will train a convolutional neural network (ConvNet) to perform sleep staging on unseen raw EEG. We will use the [Sleep Physionet](https://physionet.org/content/sleep-edfx/1.0.0/) dataset, which contains 153 overnight sleep recordings from 78 individuals. These recordings were manually staged by sleep experts, providing us with the required classification targets to train and evaluate our ConvNet on.\n",
    "\n",
    "## Objective of the tutorial\n",
    "\n",
    "This tutorial is meant to be a general hands-on introduction to training neural networks on EEG data. With this in mind, the default training hyperparameters below are set such that computations don't take too long.\n",
    "\n",
    "Once you have been through the whole material though, you are encouraged to experiment with the different elements of the pipeline (e.g., data preprocessing, neural network architecture, optimization parameters, etc.) to try to improve performance as much as possible.\n",
    "\n",
    "## Steps\n",
    "\n",
    "This notebook is divided into the following sections:\n",
    "\n",
    "0. [Set up environment](#0.-Setting-up-the-environment)\n",
    "1. [Load data](#1.-Loading-data)\n",
    "2. [Preprocess data (filter, window)](#2.-Preprocessing-raw-data)\n",
    "3. [Make splits](#3.-Making-train,-valid-and-test-splits)\n",
    "4. [Create model](#4.-Creating-the-neural-network)\n",
    "5. [Train and monitor](#5.-Train-and-monitor-network)\n",
    "6. [Visualize results](#6.-Visualizing-results)"
   ]
  },
  {
   "cell_type": "markdown",
   "metadata": {},
   "source": [
    "## 0. Setting up the environment"
   ]
  },
  {
   "cell_type": "code",
   "execution_count": 1,
   "metadata": {},
   "outputs": [
    {
     "name": "stdout",
     "output_type": "stream",
     "text": [
      "Requirement already satisfied: torch in /home/hubert/miniconda3/envs/dl-eeg-tutorial/lib/python3.8/site-packages (1.7.0+cpu)\r\n",
      "Requirement already satisfied: dataclasses in /home/hubert/miniconda3/envs/dl-eeg-tutorial/lib/python3.8/site-packages (from torch) (0.6)\r\n",
      "Requirement already satisfied: typing-extensions in /home/hubert/miniconda3/envs/dl-eeg-tutorial/lib/python3.8/site-packages (from torch) (3.7.4.3)\r\n",
      "Requirement already satisfied: numpy in /home/hubert/miniconda3/envs/dl-eeg-tutorial/lib/python3.8/site-packages (from torch) (1.19.3)\r\n",
      "Requirement already satisfied: future in /home/hubert/miniconda3/envs/dl-eeg-tutorial/lib/python3.8/site-packages (from torch) (0.18.2)\r\n"
     ]
    }
   ],
   "source": [
    "!pip install torch  # should already be installed on colab"
   ]
  },
  {
   "cell_type": "code",
   "execution_count": 1,
   "metadata": {},
   "outputs": [
    {
     "name": "stdout",
     "output_type": "stream",
     "text": [
      "No GPU found. Training will be carried out on CPU, which might be slower.\n",
      "\n",
      "If running on Google Colab, you can request a GPU runtime by clicking\n",
      "`Runtime/Change runtime type` in the top bar menu, then selecting 'GPU'\n",
      "under 'Hardware accelerator'.\n"
     ]
    }
   ],
   "source": [
    "# Identify whether a CUDA-enabled GPU is available\n",
    "import torch\n",
    "\n",
    "if torch.cuda.is_available():\n",
    "    print('CUDA-enabled GPU found. Training should be faster.')\n",
    "else:\n",
    "    print('No GPU found. Training will be carried out on CPU, which might be '\n",
    "          'slower.\\n\\nIf running on Google Colab, you can request a GPU runtime by'\n",
    "          ' clicking\\n`Runtime/Change runtime type` in the top bar menu, then '\n",
    "          'selecting \\'GPU\\'\\nunder \\'Hardware accelerator\\'.')"
   ]
  },
  {
   "cell_type": "code",
   "execution_count": 7,
   "metadata": {},
   "outputs": [
    {
     "name": "stdout",
     "output_type": "stream",
     "text": [
      "Requirement already satisfied: mne in /Users/aa/envpytorch/lib/python3.7/site-packages (0.24.0)\n",
      "Requirement already satisfied: scipy>=1.1.0 in /Users/aa/envpytorch/lib/python3.7/site-packages (from mne) (1.6.0)\n",
      "Requirement already satisfied: numpy>=1.15.4 in /Users/aa/envpytorch/lib/python3.7/site-packages (from mne) (1.19.1)\n",
      "\u001b[33mWARNING: You are using pip version 21.1.3; however, version 21.3.1 is available.\n",
      "You should consider upgrading via the '/Users/aa/envpytorch/bin/python -m pip install --upgrade pip' command.\u001b[0m\n",
      "Requirement already satisfied: torch in /Users/aa/envpytorch/lib/python3.7/site-packages (1.7.1)\n",
      "Requirement already satisfied: numpy in /Users/aa/envpytorch/lib/python3.7/site-packages (from torch) (1.19.1)\n",
      "Requirement already satisfied: typing-extensions in /Users/aa/envpytorch/lib/python3.7/site-packages (from torch) (3.7.4.3)\n",
      "\u001b[33mWARNING: You are using pip version 21.1.3; however, version 21.3.1 is available.\n",
      "You should consider upgrading via the '/Users/aa/envpytorch/bin/python -m pip install --upgrade pip' command.\u001b[0m\n",
      "Requirement already satisfied: matplotlib in /Users/aa/envpytorch/lib/python3.7/site-packages (3.3.0)\n",
      "Requirement already satisfied: python-dateutil>=2.1 in /Users/aa/envpytorch/lib/python3.7/site-packages (from matplotlib) (2.8.1)\n",
      "Requirement already satisfied: kiwisolver>=1.0.1 in /Users/aa/envpytorch/lib/python3.7/site-packages (from matplotlib) (1.2.0)\n",
      "Requirement already satisfied: pillow>=6.2.0 in /Users/aa/envpytorch/lib/python3.7/site-packages (from matplotlib) (7.2.0)\n",
      "Requirement already satisfied: pyparsing!=2.0.4,!=2.1.2,!=2.1.6,>=2.0.3 in /Users/aa/envpytorch/lib/python3.7/site-packages (from matplotlib) (2.4.7)\n",
      "Requirement already satisfied: numpy>=1.15 in /Users/aa/envpytorch/lib/python3.7/site-packages (from matplotlib) (1.19.1)\n",
      "Requirement already satisfied: cycler>=0.10 in /Users/aa/envpytorch/lib/python3.7/site-packages (from matplotlib) (0.10.0)\n",
      "Requirement already satisfied: six in /Users/aa/envpytorch/lib/python3.7/site-packages (from cycler>=0.10->matplotlib) (1.15.0)\n",
      "\u001b[33mWARNING: You are using pip version 21.1.3; however, version 21.3.1 is available.\n",
      "You should consider upgrading via the '/Users/aa/envpytorch/bin/python -m pip install --upgrade pip' command.\u001b[0m\n",
      "Requirement already satisfied: scikit-learn in /Users/aa/envpytorch/lib/python3.7/site-packages (0.24.0)\n",
      "Requirement already satisfied: threadpoolctl>=2.0.0 in /Users/aa/envpytorch/lib/python3.7/site-packages (from scikit-learn) (2.1.0)\n",
      "Requirement already satisfied: joblib>=0.11 in /Users/aa/envpytorch/lib/python3.7/site-packages (from scikit-learn) (1.0.0)\n",
      "Requirement already satisfied: scipy>=0.19.1 in /Users/aa/envpytorch/lib/python3.7/site-packages (from scikit-learn) (1.6.0)\n",
      "Requirement already satisfied: numpy>=1.13.3 in /Users/aa/envpytorch/lib/python3.7/site-packages (from scikit-learn) (1.19.1)\n",
      "\u001b[33mWARNING: You are using pip version 21.1.3; however, version 21.3.1 is available.\n",
      "You should consider upgrading via the '/Users/aa/envpytorch/bin/python -m pip install --upgrade pip' command.\u001b[0m\n",
      "Requirement already satisfied: pandas in /Users/aa/envpytorch/lib/python3.7/site-packages (1.2.0)\n",
      "Requirement already satisfied: pytz>=2017.3 in /Users/aa/envpytorch/lib/python3.7/site-packages (from pandas) (2020.5)\n",
      "Requirement already satisfied: python-dateutil>=2.7.3 in /Users/aa/envpytorch/lib/python3.7/site-packages (from pandas) (2.8.1)\n",
      "Requirement already satisfied: numpy>=1.16.5 in /Users/aa/envpytorch/lib/python3.7/site-packages (from pandas) (1.19.1)\n",
      "Requirement already satisfied: six>=1.5 in /Users/aa/envpytorch/lib/python3.7/site-packages (from python-dateutil>=2.7.3->pandas) (1.15.0)\n",
      "\u001b[33mWARNING: You are using pip version 21.1.3; however, version 21.3.1 is available.\n",
      "You should consider upgrading via the '/Users/aa/envpytorch/bin/python -m pip install --upgrade pip' command.\u001b[0m\n"
     ]
    }
   ],
   "source": [
    "# Install required packages for colab\n",
    "!pip install mne\n",
    "!pip install torch\n",
    "!pip install matplotlib\n",
    "!pip install scikit-learn\n",
    "!pip install pandas"
   ]
  },
  {
   "cell_type": "code",
   "execution_count": 2,
   "metadata": {},
   "outputs": [],
   "source": [
    "# import general modules\n",
    "import os\n",
    "import copy\n",
    "\n",
    "import torch\n",
    "import numpy as np\n",
    "import pandas as pd\n",
    "import matplotlib.pyplot as plt\n",
    "\n",
    "%matplotlib inline"
   ]
  },
  {
   "cell_type": "code",
   "execution_count": 3,
   "metadata": {},
   "outputs": [],
   "source": [
    "device = 'cuda' if torch.cuda.is_available() else 'cpu'"
   ]
  },
  {
   "cell_type": "markdown",
   "metadata": {},
   "source": [
    "## 1. Loading data\n",
    "\n",
    "We start by loading the raw EEG recordings from the Sleep Physionet dataset. MNE-Python already contains a function `fetch_data` which downloads the recordings locally. We then need to read each file from the disk.\n",
    "\n",
    "To make the first pass through this tutorial faster, we only load a part of the entire Sleep Physionet dataset (30 recordings out of 153). Once you are able to run the whole tutorial and are ready to work on improving the performance of the model, you can try loading more subjects and recordings."
   ]
  },
  {
   "cell_type": "code",
   "execution_count": 292,
   "metadata": {},
   "outputs": [],
   "source": [
    "import mne\n",
    "from mne.datasets.sleep_physionet.age import fetch_data\n",
    "\n",
    "mne.set_log_level('ERROR')  # To avoid flooding the cell outputs with messages"
   ]
  },
  {
   "cell_type": "code",
   "execution_count": 293,
   "metadata": {},
   "outputs": [],
   "source": [
    "subjects = range(30)\n",
    "recordings = [1]\n",
    "\n",
    "# To load all subjects and recordings, uncomment the next line\n",
    "# subjects, recordings = range(83), [1, 2]"
   ]
  },
  {
   "cell_type": "code",
   "execution_count": 294,
   "metadata": {},
   "outputs": [],
   "source": [
    "fnames = fetch_data(subjects=subjects, recording=recordings, on_missing='warn')"
   ]
  },
  {
   "cell_type": "code",
   "execution_count": 295,
   "metadata": {},
   "outputs": [],
   "source": [
    "def load_sleep_physionet_raw(raw_fname, annot_fname, load_eeg_only=True, \n",
    "                             crop_wake_mins=30):\n",
    "    \"\"\"Load a recording from the Sleep Physionet dataset.\n",
    "    \n",
    "    Parameters\n",
    "    ----------\n",
    "    raw_fname : str\n",
    "        Path to the .edf file containing the raw data.\n",
    "    annot_fname : str\n",
    "        Path to the annotation file.\n",
    "    load_eeg_only : bool\n",
    "        If True, only keep EEG channels and discard other modalities \n",
    "        (speeds up loading).\n",
    "    crop_wake_mins : float\n",
    "        Number of minutes of wake events before and after sleep events.\n",
    "    \n",
    "    Returns\n",
    "    -------\n",
    "    mne.io.Raw :\n",
    "        Raw object containing the EEG and annotations.        \n",
    "    \"\"\"\n",
    "    mapping = {'EOG horizontal': 'eog',\n",
    "               'Resp oro-nasal': 'misc',\n",
    "               'EMG submental': 'misc',\n",
    "               'Temp rectal': 'misc',\n",
    "               'Event marker': 'misc'}\n",
    "    exclude = mapping.keys() if load_eeg_only else ()\n",
    "    \n",
    "    raw = mne.io.read_raw_edf(raw_fname, exclude=exclude)\n",
    "    annots = mne.read_annotations(annot_fname)\n",
    "    raw.set_annotations(annots, emit_warning=False)\n",
    "    if not load_eeg_only:\n",
    "        raw.set_channel_types(mapping)\n",
    "    \n",
    "    if crop_wake_mins > 0:  # Cut start and end Wake periods\n",
    "        # Find first and last sleep stages\n",
    "        #mask = [x[-1] in ['1', '2', '3', '4', 'R'] \n",
    "               # for x in annots.description]\n",
    "        mask = [x[-1] in ['1', '2', '3', '4', 'R'] \n",
    "                for x in annots.description]\n",
    "        sleep_event_inds = np.where(mask)[0]\n",
    "\n",
    "        # Crop raw\n",
    "        tmin = annots[int(sleep_event_inds[0])]['onset'] - \\\n",
    "               crop_wake_mins * 60\n",
    "        tmax = annots[int(sleep_event_inds[-1])]['onset'] + \\\n",
    "               crop_wake_mins * 60\n",
    "        raw.crop(tmin=tmin, tmax=tmax)\n",
    "    \n",
    "    # Rename EEG channels\n",
    "    ch_names = {i: i.replace('EEG ', '') \n",
    "                for i in raw.ch_names if 'EEG' in i}\n",
    "    mne.rename_channels(raw.info, ch_names)\n",
    "    \n",
    "    # Save subject and recording information in raw.info\n",
    "    basename = os.path.basename(raw_fname)\n",
    "    subj_nb, rec_nb = int(basename[3:5]), int(basename[5])\n",
    "    raw.info['subject_info'] = {'id': subj_nb, 'rec_id': rec_nb}\n",
    "   \n",
    "    return raw"
   ]
  },
  {
   "cell_type": "code",
   "execution_count": 296,
   "metadata": {},
   "outputs": [],
   "source": [
    "# Load recordings\n",
    "raws = [load_sleep_physionet_raw(f[0], f[1]) for f in fnames]"
   ]
  },
  {
   "cell_type": "code",
   "execution_count": 297,
   "metadata": {},
   "outputs": [
    {
     "data": {
      "text/plain": [
       "{'id': 0, 'rec_id': 1}"
      ]
     },
     "execution_count": 297,
     "metadata": {},
     "output_type": "execute_result"
    }
   ],
   "source": [
    "raws[0].info['subject_info']"
   ]
  },
  {
   "cell_type": "code",
   "execution_count": 333,
   "metadata": {},
   "outputs": [
    {
     "data": {
      "image/png": "[encoded data removed]",
      "text/plain": [
       "<MNEBrowseFigure size 576x576 with 4 Axes>"
      ]
     },
     "metadata": {
      "needs_background": "light"
     },
     "output_type": "display_data"
    }
   ],
   "source": [
    "# Plot a recording as a sanity check\n",
    "raws[1].plot();"
   ]
  },
  {
   "cell_type": "markdown",
   "metadata": {},
   "source": [
    "## 2. Preprocessing raw data\n",
    "\n",
    "Next, we need to preprocess the raw data. Here, we use a simple filtering step, followed by the extraction of 30-s windows. \n",
    "\n",
    "Sleep EEG data has most of its relevant information below 30 Hz. Therefore, to mitigate the impact of higher frequency noise, we apply a lowpass filter with cutoff frequency of 30 Hz to our recordings."
   ]
  },
  {
   "cell_type": "code",
   "execution_count": 299,
   "metadata": {},
   "outputs": [],
   "source": [
    "l_freq, h_freq = None, 30\n",
    "\n",
    "for raw in raws:\n",
    "    raw.load_data().filter(l_freq, h_freq)  # filtering happens in-place"
   ]
  },
  {
   "cell_type": "code",
   "execution_count": 300,
   "metadata": {},
   "outputs": [
    {
     "data": {
      "image/png": "[encoded data removed]",
      "text/plain": [
       "<MNELineFigure size 720x252 with 1 Axes>"
      ]
     },
     "metadata": {
      "needs_background": "light"
     },
     "output_type": "display_data"
    }
   ],
   "source": [
    "# Plot the power spectrum of a recording as sanity check\n",
    "raws[0].plot_psd();"
   ]
  },
  {
   "cell_type": "markdown",
   "metadata": {},
   "source": [
    "From the power spectral density plot, we can see that our filter has indeed cut off most of the power above 30 Hz.\n",
    "\n",
    "Before proceeding to extracting 30-s windows (also called *epochs*) from the filtered data, we define a few functions that we will need:"
   ]
  },
  {
   "cell_type": "code",
   "execution_count": 301,
   "metadata": {},
   "outputs": [],
   "source": [
    "def extract_epochs(raw, chunk_duration=30.):\n",
    "    \"\"\"Extract non-overlapping epochs from raw data.\n",
    "    \n",
    "    Parameters\n",
    "    ----------\n",
    "    raw : mne.io.Raw\n",
    "        Raw data object to be windowed.\n",
    "    chunk_duration : float\n",
    "        Length of a window.\n",
    "    \n",
    "    Returns\n",
    "    -------\n",
    "    np.ndarray\n",
    "        Epoched data, of shape (n_epochs, n_channels, n_times).\n",
    "    np.ndarray\n",
    "        Event identifiers for each epoch, shape (n_epochs,).\n",
    "    \"\"\"\n",
    "    annotation_desc_2_event_id = {\n",
    "        'Sleep stage W': 1,\n",
    "        'Sleep stage 1': 2,\n",
    "        'Sleep stage 2': 3,\n",
    "        'Sleep stage 3': 4,\n",
    "        'Sleep stage 4': 4,\n",
    "        'Sleep stage R': 5}\n",
    "\n",
    "    events, _ = mne.events_from_annotations(\n",
    "        raw, event_id=annotation_desc_2_event_id, \n",
    "        chunk_duration=chunk_duration)\n",
    "\n",
    "    # create a new event_id that unifies stages 3 and 4\n",
    "    event_id = {\n",
    "        'Sleep stage W': 1,\n",
    "        'Sleep stage 1': 2,\n",
    "        'Sleep stage 2': 3,\n",
    "        'Sleep stage 3/4': 4,\n",
    "        'Sleep stage R': 5}\n",
    "\n",
    "    tmax = 30. - 1. / raw.info['sfreq']  # tmax in included\n",
    "    picks = mne.pick_types(raw.info, eeg=True, eog=True)\n",
    "    epochs = mne.Epochs(raw=raw, events=events, picks=picks, preload=True,\n",
    "                        event_id=event_id, tmin=0., tmax=tmax, baseline=None)\n",
    "    \n",
    "    return epochs.get_data(), epochs.events[:, 2] - 1"
   ]
  },
  {
   "cell_type": "code",
   "execution_count": 302,
   "metadata": {},
   "outputs": [],
   "source": [
    "from torch.utils.data import Dataset, ConcatDataset\n",
    "\n",
    "\n",
    "class EpochsDataset(Dataset):\n",
    "    \"\"\"Class to expose an MNE Epochs object as PyTorch dataset.\n",
    "    \n",
    "    Parameters\n",
    "    ----------\n",
    "    epochs_data : np.ndarray\n",
    "        The epochs data, shape (n_epochs, n_channels, n_times).\n",
    "    epochs_labels : np.ndarray\n",
    "        The epochs labels, shape (n_epochs,)\n",
    "    subj_nb: None | int\n",
    "        Subject number.\n",
    "    rec_nb: None | int\n",
    "        Recording number.\n",
    "    transform : callable | None\n",
    "        The function to eventually apply to each epoch\n",
    "        for preprocessing (e.g. scaling). Defaults to None.\n",
    "    \"\"\"\n",
    "    def __init__(self, epochs_data, epochs_labels, subj_nb=None, \n",
    "                 rec_nb=None, transform=None):\n",
    "        assert len(epochs_data) == len(epochs_labels)\n",
    "       # print(epochs_labels.shape)\n",
    "       # print(rec_nb)\n",
    "        self.epochs_data = epochs_data\n",
    "        self.epochs_labels = epochs_labels\n",
    "        self.subj_nb = subj_nb\n",
    "        self.rec_nb = rec_nb\n",
    "        self.transform = transform\n",
    "\n",
    "    def __len__(self):\n",
    "        return len(self.epochs_labels)\n",
    "\n",
    "    def __getitem__(self, idx):\n",
    "        X, y = self.epochs_data[idx], self.epochs_labels[idx]\n",
    "        if self.transform is not None:\n",
    "            X = self.transform(X)\n",
    "        X = torch.as_tensor(X[None, ...])\n",
    "        return X, y\n",
    "    \n",
    "\n",
    "def scale(X):\n",
    "    \"\"\"Standard scaling of data along the last dimention.\n",
    "    \n",
    "    Parameters\n",
    "    ----------\n",
    "    X : array, shape (n_channels, n_times)\n",
    "        The input signals.\n",
    "        \n",
    "    Returns\n",
    "    -------\n",
    "    X_t : array, shape (n_channels, n_times)\n",
    "        The scaled signals.\n",
    "    \"\"\"\n",
    "    X -= np.mean(X, axis=1, keepdims=True)\n",
    "    return X / np.std(X, axis=1, keepdims=True)"
   ]
  },
  {
   "cell_type": "markdown",
   "metadata": {},
   "source": [
    "We can now extract windows from each recording, and wrap them into Pytorch datasets."
   ]
  },
  {
   "cell_type": "code",
   "execution_count": 303,
   "metadata": {},
   "outputs": [],
   "source": [
    "# Apply windowing and move to pytorch dataset\n",
    "all_datasets = [EpochsDataset(*extract_epochs(raw), subj_nb=raw.info['subject_info']['id'], \n",
    "                              rec_nb=raw.info['subject_info']['rec_id'], transform=scale) \n",
    "                for raw in raws]\n",
    "\n",
    "# Concatenate into a single dataset\n",
    "dataset = ConcatDataset(all_datasets)"
   ]
  },
  {
   "cell_type": "code",
   "execution_count": 335,
   "metadata": {},
   "outputs": [
    {
     "name": "stdout",
     "output_type": "stream",
     "text": [
      "0 \t 836\n",
      "1 \t 1087\n",
      "2 \t 1020\n",
      "3 \t 950\n",
      "4 \t 1234\n",
      "5 \t 670\n",
      "6 \t 827\n",
      "7 \t 969\n",
      "8 \t 1127\n",
      "9 \t 1130\n",
      "10 \t 1097\n",
      "11 \t 924\n",
      "12 \t 1049\n",
      "13 \t 1024\n",
      "14 \t 1003\n",
      "15 \t 940\n",
      "16 \t 1139\n",
      "17 \t 951\n",
      "18 \t 941\n",
      "19 \t 1523\n",
      "20 \t 1005\n",
      "21 \t 1577\n",
      "22 \t 1097\n",
      "23 \t 902\n",
      "24 \t 1649\n",
      "25 \t 949\n",
      "26 \t 1591\n",
      "27 \t 1027\n",
      "28 \t 1123\n",
      "29 \t 1128\n"
     ]
    }
   ],
   "source": [
    "#I added this code to make the plot for the number of samples per patient\n",
    "length_map={}\n",
    "for i in range(len(all_datasets)):\n",
    "    print(i,\"\\t\",len(all_datasets[i]))\n",
    "    length_map[i]=len(all_datasets[i])\n",
    "    #print(i,length_map[i])\n"
   ]
  },
  {
   "cell_type": "markdown",
   "metadata": {},
   "source": [
    "You might have noticed we added a scaling transform to the datasets. This scaling makes sure each EEG channel in each 30-s window has a mean of 0 and a standard deviation of 1. This will help the neural network when training."
   ]
  },
  {
   "cell_type": "markdown",
   "metadata": {},
   "source": [
    "## 3. Making train, valid and test splits\n",
    "\n",
    "Now that we have our preprocessed and windowed data, we can split it into the different sets that we will need: (1) the **training set** is used to learn the parameters of our ConvNet, (2) the **validation set** is used to monitor the training process and decide when to stop it, and (3) the **test set** is used to provide an estimate of the generalization performance of our model.\n",
    "\n",
    "Here, we keep recording 1 of subjects 0-9 for testing, and split the remaining recordings into training and validation sets.\n",
    "\n",
    "We define the following functions to perform the split:"
   ]
  },
  {
   "cell_type": "code",
   "execution_count": 305,
   "metadata": {},
   "outputs": [],
   "source": [
    "from sklearn.model_selection import LeavePGroupsOut\n",
    "\n",
    "\n",
    "def pick_recordings(dataset, subj_rec_nbs):\n",
    "    \"\"\"Pick recordings using subject and recording numbers.\n",
    "    \n",
    "    Parameters\n",
    "    ----------\n",
    "    dataset : ConcatDataset\n",
    "        The dataset to pick recordings from.        \n",
    "    subj_rec_nbs : list of tuples\n",
    "        List of pairs (subj_nb, rec_nb) to use in split.\n",
    "        \n",
    "    Returns\n",
    "    -------\n",
    "    ConcatDataset\n",
    "        The picked recordings.\n",
    "    ConcatDataset | None\n",
    "        The remaining recordings. None if all recordings from \n",
    "        `dataset` were picked.\n",
    "    \"\"\"\n",
    "    pick_idx = list()\n",
    "    for subj_nb, rec_nb in subj_rec_nbs:\n",
    "        for i, ds in enumerate(dataset.datasets):\n",
    "            if (ds.subj_nb == subj_nb) and (ds.rec_nb == rec_nb):\n",
    "                pick_idx.append(i)\n",
    "                \n",
    "    remaining_idx = np.setdiff1d(\n",
    "        range(len(dataset.datasets)), pick_idx)\n",
    "    print(pick_idx)\n",
    "    pick_ds = ConcatDataset([dataset.datasets[i] for i in pick_idx])\n",
    "    if len(remaining_idx) > 0:\n",
    "        remaining_ds = ConcatDataset(\n",
    "            [dataset.datasets[i] for i in remaining_idx])\n",
    "    else:\n",
    "        remaining_ds = None\n",
    "    \n",
    "    return pick_ds, remaining_ds\n",
    "    \n",
    "\n",
    "def train_test_split(dataset, n_groups, split_by='subj_nb'):\n",
    "    \"\"\"Split dataset into train and test keeping n_groups out in test.\n",
    "    \n",
    "    Parameters\n",
    "    ----------\n",
    "    dataset : ConcatDataset\n",
    "        The dataset to split.\n",
    "    n_groups : int\n",
    "        The number of groups to leave out.\n",
    "    split_by : 'subj_nb' | 'rec_nb'\n",
    "        Property to use to split dataset.\n",
    "        \n",
    "    Returns\n",
    "    -------\n",
    "    ConcatDataset\n",
    "        The training data.\n",
    "    ConcatDataset\n",
    "        The testing data.\n",
    "    \"\"\"\n",
    "    groups = [getattr(ds, split_by) for ds in dataset.datasets]\n",
    "    train_idx, test_idx = next(\n",
    "        LeavePGroupsOut(n_groups).split(X=groups, groups=groups))\n",
    "    print(train_idx)\n",
    "    print(test_idx)\n",
    "    train_ds = ConcatDataset([dataset.datasets[i] for i in train_idx])\n",
    "    test_ds = ConcatDataset([dataset.datasets[i] for i in test_idx])\n",
    "        \n",
    "    return train_ds, test_ds"
   ]
  },
  {
   "cell_type": "code",
   "execution_count": 306,
   "metadata": {},
   "outputs": [],
   "source": [
    "# We seed the random number generators to make our splits reproducible\n",
    "torch.manual_seed(87)\n",
    "np.random.seed(87)"
   ]
  },
  {
   "cell_type": "code",
   "execution_count": 307,
   "metadata": {},
   "outputs": [
    {
     "name": "stdout",
     "output_type": "stream",
     "text": [
      "[0, 1, 2, 3, 4, 5, 6, 7, 8, 9]\n"
     ]
    }
   ],
   "source": [
    "# Use recording 1 of subjects 0-9 as test set\n",
    "test_recs = [(subj_nb, rec_nb)  # DO NOT CHANGE! This is a fixed set.\n",
    "             for subj_nb, rec_nb in zip(range(10), [1] * 10)]\n",
    "test_ds, train_ds = pick_recordings(dataset, test_recs)"
   ]
  },
  {
   "cell_type": "code",
   "execution_count": 308,
   "metadata": {},
   "outputs": [
    {
     "name": "stdout",
     "output_type": "stream",
     "text": [
      "[ 4  5  6  7  8  9 10 11 12 13 14 15 16 17 18 19]\n",
      "[0 1 2 3]\n",
      "Number of examples in each set:\n",
      "Training: 18545\n",
      "Validation: 4094\n",
      "Test: 9850\n"
     ]
    }
   ],
   "source": [
    "# Split remaining recordings into training and validation sets\n",
    "n_subjects_valid = max(1, int(len(train_ds.datasets) * 0.2))\n",
    "train_ds, valid_ds = train_test_split(train_ds, n_subjects_valid, split_by='subj_nb')\n",
    "\n",
    "print('Number of examples in each set:')\n",
    "print(f'Training: {len(train_ds)}')\n",
    "print(f'Validation: {len(valid_ds)}')\n",
    "print(f'Test: {len(test_ds)}')"
   ]
  },
  {
   "cell_type": "code",
   "execution_count": 309,
   "metadata": {},
   "outputs": [
    {
     "data": {
      "text/plain": [
       "torch.Size([1, 5, 3000])"
      ]
     },
     "execution_count": 309,
     "metadata": {},
     "output_type": "execute_result"
    }
   ],
   "source": [
    "#train_ds[0][0].shape\n",
    "dataset[0][0].shape"
   ]
  },
  {
   "cell_type": "markdown",
   "metadata": {},
   "source": [
    "Finally, we notice that the classes are imbalanced, i.e., there are a lot more of some classes than others. N2, especially, is more prevalent than the other sleep stages during the night:"
   ]
  },
  {
   "cell_type": "code",
   "execution_count": 310,
   "metadata": {},
   "outputs": [
    {
     "data": {
      "image/png": "[encoded data removed]",
      "text/plain": [
       "<Figure size 432x288 with 1 Axes>"
      ]
     },
     "metadata": {
      "needs_background": "light"
     },
     "output_type": "display_data"
    }
   ],
   "source": [
    "classes_mapping = {0: 'W', 1: 'N1', 2: 'N2', 3: 'N3', 4: 'R'}\n",
    "y_train = pd.Series([y for _, y in train_ds]).map(classes_mapping)\n",
    "ax = y_train.value_counts().plot(kind='barh')\n",
    "ax.set_xlabel('Number of training examples');\n",
    "ax.set_ylabel('Sleep stage');"
   ]
  },
  {
   "cell_type": "code",
   "execution_count": null,
   "metadata": {},
   "outputs": [],
   "source": []
  },
  {
   "cell_type": "code",
   "execution_count": 315,
   "metadata": {},
   "outputs": [],
   "source": [
    "y_test = pd.Series([y for _, y in test_ds]).map(classes_mapping)\n"
   ]
  },
  {
   "cell_type": "code",
   "execution_count": 316,
   "metadata": {},
   "outputs": [
    {
     "data": {
      "image/png": "[encoded data removed]",
      "text/plain": [
       "<Figure size 432x288 with 1 Axes>"
      ]
     },
     "metadata": {
      "needs_background": "light"
     },
     "output_type": "display_data"
    }
   ],
   "source": [
    "classes_mapping = {0: 'W', 1: 'N1', 2: 'N2', 3: 'N3', 4: 'R'}\n",
    "y_test = pd.Series([y for _, y in test_ds]).map(classes_mapping)\n",
    "ax = y_test.value_counts().plot(kind='barh')\n",
    "ax.set_xlabel('Number of testing examples');\n",
    "ax.set_ylabel('Sleep stage');"
   ]
  },
  {
   "cell_type": "code",
   "execution_count": 317,
   "metadata": {},
   "outputs": [
    {
     "name": "stdout",
     "output_type": "stream",
     "text": [
      "N3\n",
      "N2\n",
      "3\n",
      "2\n"
     ]
    }
   ],
   "source": [
    "print(y_test[100])\n",
    "print(y_test[120])\n",
    "print(test_ds[100][1])\n",
    "print(test_ds[120][1])"
   ]
  },
  {
   "cell_type": "markdown",
   "metadata": {},
   "source": [
    "One way to account for this imbalance during training is to give more weight to examples from rarer classes when computing the loss. We compute the weights with the following:"
   ]
  },
  {
   "cell_type": "code",
   "execution_count": 318,
   "metadata": {},
   "outputs": [
    {
     "name": "stdout",
     "output_type": "stream",
     "text": [
      "[0.84583808 2.37908916 0.48700105 2.03567508 1.17262093]\n"
     ]
    }
   ],
   "source": [
    "# Computing class weight\n",
    "from sklearn.utils.class_weight import compute_class_weight\n",
    "\n",
    "train_y = np.concatenate([ds.epochs_labels for ds in train_ds.datasets])\n",
    "class_weights = compute_class_weight('balanced', classes=np.unique(train_y), y=train_y)\n",
    "print(class_weights)"
   ]
  },
  {
   "cell_type": "markdown",
   "metadata": {},
   "source": [
    "## 4. Creating the neural network\n",
    "\n",
    "In this section, we will define our ConvNet architecture. \n",
    "\n",
    "By default, we use the sleep staging architecture of Chambon et al. (2018), which looks something like this (adapted from Banville et al. 2020):\n",
    "\n",
    "![convnet](figs/convnet.png \"SleepStagerChambon2018\")"
   ]
  },
  {
   "cell_type": "markdown",
   "metadata": {},
   "source": [
    "The **input**, on the left, is a 30-s window of `C` channels. By default we have set `C` to 2 by selecting the 2 available EEG channels in Sleep Physionet above.\n",
    "\n",
    "The **output**, on the right, is a 5-dimensional vector where each dimension is matched to one of our 5 classes (W, N1, N2, N3 and R sleep stages).\n",
    "\n",
    "In between, we have a succession of convolutional layers, max pooling, and nonlinearities. The feature maps are finally flattened and passed through a fully-connected layer.\n",
    "\n",
    "We define the neural network in the following `torch.nn.Module` class:"
   ]
  },
  {
   "cell_type": "code",
   "execution_count": 319,
   "metadata": {},
   "outputs": [],
   "source": [
    "from torch import nn\n",
    "\n",
    "\n",
    "class SleepStagerChambon2018(nn.Module):\n",
    "    \"\"\"Sleep staging architecture from [1]_.\n",
    "    \n",
    "    Convolutional neural network for sleep staging described in [1]_.\n",
    "    \n",
    "    Parameters\n",
    "    ----------\n",
    "    n_channels : int\n",
    "        Number of EEG channels.\n",
    "    sfreq : float\n",
    "        EEG sampling frequency.\n",
    "    n_conv_chs : int\n",
    "        Number of convolutional channels. Set to 8 in [1]_.\n",
    "    time_conv_size_s : float\n",
    "        Size of filters in temporal convolution layers, in seconds. Set to 0.5\n",
    "        in [1]_ (64 samples at sfreq=128).\n",
    "    max_pool_size_s : float\n",
    "        Max pooling size, in seconds. Set to 0.125 in [1]_ (16 samples at\n",
    "        sfreq=128).\n",
    "    n_classes : int\n",
    "        Number of classes.\n",
    "    input_size_s : float\n",
    "        Size of the input, in seconds.\n",
    "    dropout : float\n",
    "        Dropout rate before the output dense layer.\n",
    "        \n",
    "    References\n",
    "    ----------\n",
    "    .. [1] Chambon, S., Galtier, M. N., Arnal, P. J., Wainrib, G., &\n",
    "           Gramfort, A. (2018). A deep learning architecture for temporal sleep\n",
    "           stage classification using multivariate and multimodal time series.\n",
    "           IEEE Transactions on Neural Systems and Rehabilitation Engineering,\n",
    "           26(4), 758-769.\n",
    "    \"\"\"\n",
    "    def __init__(self, n_channels, sfreq, n_conv_chs=8, time_conv_size_s=0.5,\n",
    "                 max_pool_size_s=0.125, n_classes=5, input_size_s=30,\n",
    "                 dropout=0.25):\n",
    "        super().__init__()\n",
    "\n",
    "        time_conv_size = int(time_conv_size_s * sfreq)\n",
    "        max_pool_size = int(max_pool_size_s * sfreq)\n",
    "        input_size = int(input_size_s * sfreq)\n",
    "        pad_size = time_conv_size // 2\n",
    "        self.n_channels = n_channels\n",
    "        len_last_layer = self._len_last_layer(\n",
    "            n_channels, input_size, max_pool_size, n_conv_chs)\n",
    "\n",
    "        if n_channels > 1:\n",
    "            self.spatial_conv = nn.Conv2d(1, n_channels, (n_channels, 1))\n",
    "\n",
    "        self.feature_extractor = nn.Sequential(\n",
    "            nn.Conv2d(\n",
    "                1, n_conv_chs, (1, time_conv_size), padding=(0, pad_size)),\n",
    "            nn.ReLU(),\n",
    "            nn.MaxPool2d((1, max_pool_size)),\n",
    "            nn.Conv2d(\n",
    "                n_conv_chs, n_conv_chs, (1, time_conv_size),\n",
    "                padding=(0, pad_size)),\n",
    "            nn.ReLU(),\n",
    "            nn.MaxPool2d((1, max_pool_size))\n",
    "        )\n",
    "        self.fc = nn.Sequential(\n",
    "            nn.Dropout(dropout),\n",
    "            nn.Linear(len_last_layer, n_classes)\n",
    "        )\n",
    "\n",
    "    @staticmethod\n",
    "    def _len_last_layer(n_channels, input_size, max_pool_size, n_conv_chs):\n",
    "        return n_channels * (input_size // (max_pool_size ** 2)) * n_conv_chs\n",
    "\n",
    "    def forward(self, x):\n",
    "        \"\"\"Forward pass.\n",
    "        \n",
    "        Parameters\n",
    "        ---------\n",
    "        x: torch.Tensor\n",
    "            Batch of EEG windows of shape (batch_size, n_channels, n_times).\n",
    "        \"\"\"\n",
    "        if self.n_channels > 1:\n",
    "            x = self.spatial_conv(x)\n",
    "            x = x.transpose(1, 2)\n",
    "\n",
    "        x = self.feature_extractor(x)\n",
    "        return self.fc(x.flatten(start_dim=1))"
   ]
  },
  {
   "cell_type": "markdown",
   "metadata": {},
   "source": [
    "We instantiate our ConvNet with the following:"
   ]
  },
  {
   "cell_type": "code",
   "execution_count": 320,
   "metadata": {},
   "outputs": [],
   "source": [
    "sfreq = raws[0].info['sfreq']  # Sampling frequency\n",
    "n_channels = raws[0].info['nchan']  # Number of channels\n",
    "n_channels=5\n",
    "model = SleepStagerChambon2018(n_channels, sfreq, n_classes=5)\n",
    "#I made the change here to change n_channels to 5 for the deep learning network to compiled"
   ]
  },
  {
   "cell_type": "code",
   "execution_count": 321,
   "metadata": {},
   "outputs": [
    {
     "data": {
      "text/plain": [
       "5"
      ]
     },
     "execution_count": 321,
     "metadata": {},
     "output_type": "execute_result"
    }
   ],
   "source": [
    "n_channels\n"
   ]
  },
  {
   "cell_type": "markdown",
   "metadata": {},
   "source": [
    "Depending on whether a CUDA-enabled GPU is available, we can move the model to the GPU and perform the training there. This can enable significant speed-ups, but is not strictly required for this tutorial."
   ]
  },
  {
   "cell_type": "code",
   "execution_count": 322,
   "metadata": {},
   "outputs": [
    {
     "name": "stdout",
     "output_type": "stream",
     "text": [
      "Using device 'cpu'.\n"
     ]
    }
   ],
   "source": [
    "print(f'Using device \\'{device}\\'.')\n",
    "model = model.to(device)"
   ]
  },
  {
   "cell_type": "markdown",
   "metadata": {},
   "source": [
    "## 5. Train and monitor network\n",
    "\n",
    "We are almost ready to finally train our ConvNet!\n",
    "\n",
    "We first need to define `DataLoader`s. `DataLoader` is a pytorch object that wraps a dataset and makes it easy to obtain batches of examples to feed to our neural network."
   ]
  },
  {
   "cell_type": "code",
   "execution_count": 323,
   "metadata": {},
   "outputs": [],
   "source": [
    "from torch.utils.data import DataLoader\n",
    "\n",
    "# Create dataloaders\n",
    "train_batch_size = 128  # Important hyperparameter\n",
    "valid_batch_size = 256  # Can be made as large as what fits in memory; won't impact performance\n",
    "num_workers = 0  # Number of processes to use for the data loading process; 0 is the main Python process\n",
    "\n",
    "loader_train = DataLoader(\n",
    "    train_ds, batch_size=train_batch_size, shuffle=True, num_workers=num_workers)\n",
    "loader_valid = DataLoader(\n",
    "    valid_ds, batch_size=valid_batch_size, shuffle=False, num_workers=num_workers)\n",
    "loader_test = DataLoader(\n",
    "    test_ds, batch_size=valid_batch_size, shuffle=False, num_workers=num_workers)"
   ]
  },
  {
   "cell_type": "code",
   "execution_count": 324,
   "metadata": {},
   "outputs": [
    {
     "data": {
      "text/plain": [
       "18545"
      ]
     },
     "execution_count": 324,
     "metadata": {},
     "output_type": "execute_result"
    }
   ],
   "source": [
    "len(train_ds)"
   ]
  },
  {
   "cell_type": "markdown",
   "metadata": {},
   "source": [
    "Next, we define a few functions to carry out our training and validation loops:"
   ]
  },
  {
   "cell_type": "code",
   "execution_count": 325,
   "metadata": {},
   "outputs": [],
   "source": [
    "from sklearn.metrics import balanced_accuracy_score, cohen_kappa_score\n",
    "\n",
    "def _do_train(model, loader, optimizer, criterion, device, metric):\n",
    "    # training loop\n",
    "    model.train()\n",
    "    \n",
    "    train_loss = np.zeros(len(loader))\n",
    "    y_pred_all, y_true_all = list(), list()\n",
    "    for idx_batch, (batch_x, batch_y) in enumerate(loader):\n",
    "        optimizer.zero_grad()\n",
    "        batch_x = batch_x.to(device=device, dtype=torch.float32)\n",
    "        batch_y = batch_y.to(device=device, dtype=torch.int64)\n",
    "\n",
    "        output = model(batch_x)\n",
    "        loss = criterion(output, batch_y)\n",
    "\n",
    "        loss.backward()\n",
    "        optimizer.step()\n",
    "        \n",
    "        y_pred_all.append(torch.argmax(output, axis=1).cpu().numpy())\n",
    "        y_true_all.append(batch_y.cpu().numpy())\n",
    "\n",
    "        train_loss[idx_batch] = loss.item()\n",
    "        \n",
    "    y_pred = np.concatenate(y_pred_all)\n",
    "    y_true = np.concatenate(y_true_all)\n",
    "    perf = metric(y_true, y_pred)\n",
    "    \n",
    "    return np.mean(train_loss), perf\n",
    "        \n",
    "\n",
    "def _validate(model, loader, criterion, device, metric):\n",
    "    # validation loop\n",
    "    model.eval()\n",
    "    \n",
    "    val_loss = np.zeros(len(loader))\n",
    "    y_pred_all, y_true_all = list(), list()\n",
    "    with torch.no_grad():\n",
    "        for idx_batch, (batch_x, batch_y) in enumerate(loader):\n",
    "            batch_x = batch_x.to(device=device, dtype=torch.float32)\n",
    "            batch_y = batch_y.to(device=device, dtype=torch.int64)\n",
    "            output = model.forward(batch_x)\n",
    "\n",
    "            loss = criterion(output, batch_y)\n",
    "            val_loss[idx_batch] = loss.item()\n",
    "            \n",
    "            y_pred_all.append(torch.argmax(output, axis=1).cpu().numpy())\n",
    "            y_true_all.append(batch_y.cpu().numpy())\n",
    "            \n",
    "    y_pred = np.concatenate(y_pred_all)\n",
    "    y_true = np.concatenate(y_true_all)\n",
    "    perf = metric(y_true, y_pred)\n",
    "\n",
    "    return np.mean(val_loss), perf\n",
    "\n",
    "\n",
    "def train(model, loader_train, loader_valid, optimizer, criterion, n_epochs, \n",
    "          patience, device, metric=None):\n",
    "    \"\"\"Training function.\n",
    "    \n",
    "    Parameters\n",
    "    ----------\n",
    "    model : instance of nn.Module\n",
    "        The model.\n",
    "    loader_train : instance of Sampler\n",
    "        The generator of EEG samples the model has to train on.\n",
    "        It contains n_train samples\n",
    "    loader_valid : instance of Sampler\n",
    "        The generator of EEG samples the model has to validate on.\n",
    "        It contains n_val samples. The validation samples are used to\n",
    "        monitor the training process and to perform early stopping\n",
    "    optimizer : instance of optimizer\n",
    "        The optimizer to use for training.\n",
    "    n_epochs : int\n",
    "        The maximum of epochs to run.\n",
    "    patience : int\n",
    "        The patience parameter, i.e. how long to wait for the\n",
    "        validation error to go down.\n",
    "    metric : None | callable\n",
    "        Metric to use to evaluate performance on the training and\n",
    "        validation sets. Defaults to balanced accuracy.\n",
    "        \n",
    "    Returns\n",
    "    -------\n",
    "    best_model : instance of nn.Module\n",
    "        The model that led to the best prediction on the validation\n",
    "        dataset.\n",
    "    history : list of dicts\n",
    "        Training history (loss, accuracy, etc.)\n",
    "    \"\"\"\n",
    "    best_valid_loss = np.inf\n",
    "    best_model = copy.deepcopy(model)\n",
    "    waiting = 0\n",
    "    history = list()\n",
    "    \n",
    "    if metric is None:\n",
    "        metric = balanced_accuracy_score\n",
    "        \n",
    "    print('epoch \\t train_loss \\t valid_loss \\t train_perf \\t valid_perf')\n",
    "    print('-------------------------------------------------------------------')\n",
    "\n",
    "    for epoch in range(1, n_epochs + 1):\n",
    "        train_loss, train_perf = _do_train(\n",
    "            model, loader_train, optimizer, criterion, device, metric=metric)\n",
    "        valid_loss, valid_perf = _validate(\n",
    "            model, loader_valid, criterion, device, metric=metric)\n",
    "        history.append(\n",
    "            {'epoch': epoch, \n",
    "             'train_loss': train_loss, 'valid_loss': valid_loss,\n",
    "             'train_perf': train_perf, 'valid_perf': valid_perf})\n",
    "        \n",
    "        print(f'{epoch} \\t {train_loss:0.4f} \\t {valid_loss:0.4f} '\n",
    "              f'\\t {train_perf:0.4f} \\t {valid_perf:0.4f}')\n",
    "\n",
    "        # model saving\n",
    "        if valid_loss < best_valid_loss:\n",
    "            print(f'best val loss {best_valid_loss:.4f} -> {valid_loss:.4f}')\n",
    "            best_valid_loss = valid_loss\n",
    "            best_model = copy.deepcopy(model)\n",
    "            waiting = 0\n",
    "        else:\n",
    "            waiting += 1\n",
    "\n",
    "        # model early stopping\n",
    "        if waiting >= patience:\n",
    "            print(f'Stop training at epoch {epoch}')\n",
    "            print(f'Best val loss : {best_valid_loss:.4f}')\n",
    "            break\n",
    "\n",
    "    return best_model, history"
   ]
  },
  {
   "cell_type": "markdown",
   "metadata": {},
   "source": [
    "Two critical pieces of the training process are the **optimizer** and the **criterion**.\n",
    "\n",
    "* The **optimizer** implements the parameter update procedure. Here, we use `Adam`, a popular adaptive gradient descent optimizer for deep neural networks.\n",
    "* The **criterion**, or loss function, is used to measure how well the neural network performs on an example. Here, we use the standard multiclass cross-entropy loss."
   ]
  },
  {
   "cell_type": "code",
   "execution_count": 326,
   "metadata": {},
   "outputs": [],
   "source": [
    "from torch.nn import CrossEntropyLoss\n",
    "from torch.optim import Adam\n",
    "\n",
    "optimizer = Adam(model.parameters(), lr=1e-3, weight_decay=0)\n",
    "criterion = CrossEntropyLoss(weight=torch.Tensor(class_weights).to(device))"
   ]
  },
  {
   "cell_type": "code",
   "execution_count": 327,
   "metadata": {},
   "outputs": [
    {
     "data": {
      "text/plain": [
       "<torch.utils.data.dataloader.DataLoader at 0x7fd41eb62050>"
      ]
     },
     "execution_count": 327,
     "metadata": {},
     "output_type": "execute_result"
    }
   ],
   "source": [
    "loader_train\n"
   ]
  },
  {
   "cell_type": "markdown",
   "metadata": {},
   "source": [
    "We can now launch our training loop. The maxmium number of training epochs (or \"passes\" through the training set) is set with `n_epochs`. The `patience` hyperparameter controls how many epochs we will wait for before stopping the training process if there is no improvement on the validation set."
   ]
  },
  {
   "cell_type": "code",
   "execution_count": 328,
   "metadata": {},
   "outputs": [
    {
     "name": "stdout",
     "output_type": "stream",
     "text": [
      "epoch \t train_loss \t valid_loss \t train_perf \t valid_perf\n",
      "-------------------------------------------------------------------\n",
      "1 \t 1.1875 \t 0.9571 \t 0.3370 \t 0.4166\n",
      "best val loss inf -> 0.9571\n",
      "2 \t 0.7719 \t 0.7382 \t 0.5932 \t 0.5963\n",
      "best val loss 0.9571 -> 0.7382\n",
      "3 \t 0.6520 \t 0.7230 \t 0.6528 \t 0.6136\n",
      "best val loss 0.7382 -> 0.7230\n",
      "4 \t 0.6197 \t 0.7462 \t 0.6657 \t 0.5653\n",
      "5 \t 0.5959 \t 0.7479 \t 0.6783 \t 0.5598\n",
      "6 \t 0.5808 \t 0.7297 \t 0.6845 \t 0.5972\n",
      "7 \t 0.5628 \t 0.7228 \t 0.6974 \t 0.6295\n",
      "best val loss 0.7230 -> 0.7228\n",
      "8 \t 0.5504 \t 0.7502 \t 0.7007 \t 0.5754\n",
      "9 \t 0.5425 \t 0.7085 \t 0.7046 \t 0.6119\n",
      "best val loss 0.7228 -> 0.7085\n",
      "10 \t 0.5266 \t 0.7529 \t 0.7109 \t 0.6186\n"
     ]
    }
   ],
   "source": [
    "n_epochs = 10\n",
    "patience = 5\n",
    "\n",
    "best_model, history = train(\n",
    "    model, loader_train, loader_valid, optimizer, criterion, n_epochs, patience, \n",
    "    device, metric=cohen_kappa_score)"
   ]
  },
  {
   "cell_type": "markdown",
   "metadata": {},
   "source": [
    "Next, we visualize the results of our training.\n",
    "\n",
    "First, the training curves show how the loss and accuracy improved across training epochs. We use [Cohen's kappa](https://scikit-learn.org/stable/modules/model_evaluation.html#cohen-kappa) (instead of the standard accuracy) to better reflect performance under class imbalance and allow comparison with results from the literature."
   ]
  },
  {
   "cell_type": "code",
   "execution_count": 336,
   "metadata": {},
   "outputs": [
    {
     "data": {
      "text/plain": [
       "Text(0, 0.5, \"Cohen's kappa\")"
      ]
     },
     "execution_count": 336,
     "metadata": {},
     "output_type": "execute_result"
    },
    {
     "data": {
      "image/png": "[encoded data removed]",
      "text/plain": [
       "<Figure size 432x288 with 1 Axes>"
      ]
     },
     "metadata": {
      "needs_background": "light"
     },
     "output_type": "display_data"
    },
    {
     "data": {
      "image/png": "[encoded data removed]",
      "text/plain": [
       "<Figure size 432x288 with 1 Axes>"
      ]
     },
     "metadata": {
      "needs_background": "light"
     },
     "output_type": "display_data"
    }
   ],
   "source": [
    "# Visualizing the learning curves\n",
    "\n",
    "history_df = pd.DataFrame(history)\n",
    "ax1 = history_df.plot(x='epoch', y=['train_loss', 'valid_loss'], marker='o')\n",
    "ax1.set_ylabel('Loss')\n",
    "ax2 = history_df.plot(x='epoch', y=['train_perf', 'valid_perf'], marker='o')\n",
    "ax2.set_ylabel('Cohen\\'s kappa')"
   ]
  },
  {
   "cell_type": "markdown",
   "metadata": {},
   "source": [
    "We expect the loss to decrease and the Cohen's kappa to increase as more and more training epochs are performed.\n",
    "\n",
    "We also measure the performance on the test set, which was not seen during training. This gives us a better estimate of the generalization performance of our ConvNet."
   ]
  },
  {
   "cell_type": "code",
   "execution_count": 337,
   "metadata": {},
   "outputs": [
    {
     "name": "stdout",
     "output_type": "stream",
     "text": [
      "[0 0 0 ... 9 9 9]\n",
      "Test balanced accuracy: 0.760\n",
      "Test Cohen's kappa: 0.706\n"
     ]
    }
   ],
   "source": [
    "# Compute test performance\n",
    "\n",
    "best_model.eval()\n",
    "\n",
    "y_pred_all, y_true_all = list(), list()\n",
    "for batch_x, batch_y in loader_test:\n",
    "    batch_x = batch_x.to(device=device, dtype=torch.float32)\n",
    "    batch_y = batch_y.to(device=device, dtype=torch.int64)\n",
    "    output = model.forward(batch_x)\n",
    "    y_pred_all.append(torch.argmax(output, axis=1).cpu().numpy())\n",
    "    y_true_all.append(batch_y.cpu().numpy())\n",
    "    \n",
    "y_pred = np.concatenate(y_pred_all)\n",
    "y_true = np.concatenate(y_true_all)\n",
    "rec_ids = np.concatenate(  # indicates which recording each example comes from\n",
    "    [[i] * len(ds) for i, ds in enumerate(test_ds.datasets)])\n",
    "print(rec_ids)\n",
    "test_bal_acc = balanced_accuracy_score(y_true, y_pred)\n",
    "test_kappa = cohen_kappa_score(y_true, y_pred)\n",
    "\n",
    "print(f'Test balanced accuracy: {test_bal_acc:0.3f}')\n",
    "print(f'Test Cohen\\'s kappa: {test_kappa:0.3f}')"
   ]
  },
  {
   "cell_type": "code",
   "execution_count": 241,
   "metadata": {},
   "outputs": [
    {
     "name": "stdout",
     "output_type": "stream",
     "text": [
      "3 2\n",
      "2 3\n"
     ]
    }
   ],
   "source": [
    "print(y_true[100],y_pred[100])\n",
    "print(y_true[120],y_pred[120])"
   ]
  },
  {
   "cell_type": "markdown",
   "metadata": {},
   "source": [
    "For our 5-class problem, chance-level would correspond to 20% balanced accuracy or a Cohen's kappa of 0.0.\n",
    "\n",
    "To get a sense of what is possible, a recent model achieved a kappa of 0.814 on the Sleep Physionet data using a single EEG channel (10-fold cross-validation):\n",
    "\n",
    "> Phan, H., Chén, O. Y., Koch, P., Mertins, A., & De Vos, M. (2020). Xsleepnet: Multi-view sequential model for automatic sleep staging. arXiv preprint arXiv:2007.05492"
   ]
  },
  {
   "cell_type": "markdown",
   "metadata": {},
   "source": [
    "## 6. Visualizing results\n",
    "\n",
    "We further inspect the results in this section.\n",
    "\n",
    "We start by looking at the [confusion matrix](https://en.wikipedia.org/wiki/Confusion_matrix), which shows which classes were easier or more difficult to classify for our ConvNet."
   ]
  },
  {
   "cell_type": "code",
   "execution_count": 338,
   "metadata": {},
   "outputs": [],
   "source": [
    "from sklearn.metrics import confusion_matrix\n",
    "\n",
    "def plot_confusion_matrix(conf_mat, classes_mapping):\n",
    "    ticks = list(classes_mapping.keys())\n",
    "    tick_labels = classes_mapping.values()\n",
    "\n",
    "    fig, ax = plt.subplots(figsize=(6, 6))\n",
    "    im = ax.imshow(conf_mat, cmap='Reds')\n",
    "\n",
    "    ax.set_yticks(ticks)\n",
    "    ax.set_yticklabels(tick_labels)\n",
    "    ax.set_xticks(ticks)\n",
    "    ax.set_xticklabels(tick_labels)\n",
    "    ax.set_ylabel('True label')\n",
    "    ax.set_xlabel('Predicted label')\n",
    "    ax.set_title('Confusion matrix')\n",
    "\n",
    "    for i in range(len(ticks)):\n",
    "        for j in range(len(ticks)):\n",
    "            text = ax.text(\n",
    "                j, i, conf_mat[i, j], ha='center', va='center', color='k')\n",
    "\n",
    "    fig.colorbar(im, ax=ax, fraction=0.05, label='# examples')\n",
    "    fig.tight_layout()\n",
    "    \n",
    "    return fig, ax"
   ]
  },
  {
   "cell_type": "code",
   "execution_count": 339,
   "metadata": {},
   "outputs": [
    {
     "data": {
      "image/png": "[encoded data removed]",
      "text/plain": [
       "<Figure size 432x432 with 2 Axes>"
      ]
     },
     "metadata": {
      "needs_background": "light"
     },
     "output_type": "display_data"
    }
   ],
   "source": [
    "conf_mat = confusion_matrix(y_true, y_pred)\n",
    "plot_confusion_matrix(conf_mat, classes_mapping);"
   ]
  },
  {
   "cell_type": "markdown",
   "metadata": {},
   "source": [
    "What kind of mistakes does the ConvNet seem to make? Is there a class that's often mistaken for another one?\n",
    "\n",
    "We can also visualize the predictions on a recording basis. This visualization is known as a \"[hypnogram](https://en.wikipedia.org/wiki/Hypnogram)\". A hypnogram shows the evolution of sleep stages across an overnight recording."
   ]
  },
  {
   "cell_type": "code",
   "execution_count": 343,
   "metadata": {},
   "outputs": [
    {
     "name": "stdout",
     "output_type": "stream",
     "text": [
      "836\n"
     ]
    },
    {
     "data": {
      "image/png": "[encoded data removed]",
      "text/plain": [
       "<Figure size 864x216 with 1 Axes>"
      ]
     },
     "metadata": {
      "needs_background": "light"
     },
     "output_type": "display_data"
    },
    {
     "data": {
      "image/png": "[encoded data removed]",
      "text/plain": [
       "<Figure size 864x216 with 1 Axes>"
      ]
     },
     "metadata": {
      "needs_background": "light"
     },
     "output_type": "display_data"
    }
   ],
   "source": [
    "# Plot hypnogram for one recording\n",
    "\n",
    "mask = rec_ids == 0  # pick a recording number\n",
    "\n",
    "t = np.arange(len(y_true[mask])) * 30 / 3600\n",
    "\n",
    "fig, ax = plt.subplots(figsize=(12, 3))\n",
    "ax.plot(t, y_true[mask], label='True')\n",
    "#ax.plot(t, y_pred[mask], alpha=0.7, label='Predicted')\n",
    "ax.set_yticks([0, 1, 2, 3, 4])\n",
    "ax.set_yticklabels(['W', 'N1', 'N2', 'N3', 'R'])\n",
    "ax.set_xlabel('Time (h)')\n",
    "ax.set_title('Hypnogram')\n",
    "ax.legend();\n",
    "print(len(y_true[mask]))\n",
    "fig, ax = plt.subplots(figsize=(12, 3))\n",
    "#ax.plot(t, y_true[mask], label='True')\n",
    "ax.plot(t, y_pred[mask], alpha=0.7, label='Predicted')\n",
    "ax.set_yticks([0, 1, 2, 3, 4])\n",
    "ax.set_yticklabels(['W', 'N1', 'N2', 'N3', 'R'])\n",
    "ax.set_xlabel('Time (h)')\n",
    "ax.set_title('Hypnogram')\n",
    "ax.legend();"
   ]
  },
  {
   "cell_type": "markdown",
   "metadata": {},
   "source": [
    "Do the predictions of the ConvNet follow the groundtruth hypnogram? Is there any structure in the way mistakes are made?"
   ]
  },
  {
   "cell_type": "code",
   "execution_count": 367,
   "metadata": {},
   "outputs": [],
   "source": [
    "# this is the code I added to the deep learning tutorial provided to conduct the study from deep learning results\n",
    "def record_statistics(test_ds,y_pred,gt=True):\n",
    "    cumindex=0\n",
    "    countmatch=0\n",
    "    count=0\n",
    "\n",
    "    perpatient={}\n",
    "    for i in length_map:\n",
    "        if (i<10):\n",
    "            avg_length={}\n",
    "            incid={}\n",
    "            nitems=length_map[i]\n",
    "            #print(i,length_map[i])\n",
    "            fromindex=cumindex\n",
    "            toindex=fromindex+nitems\n",
    "            timeseries=None\n",
    "            origseries=None\n",
    "            past=0\n",
    "            serialcount=1\n",
    "            print()\n",
    "           # print(fromindex,toindex)\n",
    "            for j in range(fromindex,toindex):\n",
    "                if (gt):\n",
    "                    orig=test_ds[j][1]\n",
    "                else:\n",
    "                    orig=y_pred[j]\n",
    "                #orig=pred\n",
    "               # print(j,orig,past)\n",
    "\n",
    "                if ((orig-past)==0):\n",
    "                    serialcount+=1\n",
    "                else:\n",
    "                    if past not in incid:\n",
    "                        incid[past]=1\n",
    "                        avg_length[past]=serialcount\n",
    "                        #print(j,orig,\"-> \",past,\" \",serialcount)\n",
    "                        #print(past,\"\\t\",serialcount)\n",
    "                    else:\n",
    "                        avg_length[past]+=serialcount\n",
    "                        incid[past]+=1\n",
    "                        #print(j,orig,\"-> \",past,\" \",serialcount)\n",
    "                        #print(past,\"\\t\",serialcount)\n",
    "                    serialcount=1\n",
    "                past=orig\n",
    "\n",
    "\n",
    "                if (test_ds[j][1]==y_pred[j]):\n",
    "                    countmatch+=1\n",
    "                    #print(i,y_test[j],test_ds[j][1],y_pred[j])\n",
    "                count+=1\n",
    "                if (timeseries==None):\n",
    "                    timeseries=str(y_pred[j])\n",
    "                else:\n",
    "                    timeseries+=\" \"+str(y_pred[j])\n",
    "                if (origseries==None):\n",
    "                    origseries=str(test_ds[j][1])\n",
    "                else:\n",
    "                    origseries+=\" \"+str(test_ds[j][1])\n",
    "            #print(timeseries)\n",
    "            #print(j,orig,\"-> \",past,\" \",serialcount)\n",
    "            #print(past,\"\\t\",serialcount)\n",
    "            incid[past]+=1\n",
    "            avg_length[past]+=serialcount\n",
    "            #print(origseries)\n",
    "            peritem={}\n",
    "            for item in incid:\n",
    "                print(i,\"\\t\",item,\"\\t\",incid[item],\"\\t\",avg_length[item],\"\\t\",avg_length[item]/incid[item])\n",
    "                peritem[item]=avg_length[item]/incid[item]\n",
    "            perpatient[i]=peritem  \n",
    "    acrossp={}\n",
    "    for i in perpatient:\n",
    "        peritem=perpatient[i]\n",
    "        for j in peritem:\n",
    "            print(i,j,peritem[j])\n",
    "            if j not in acrossp:\n",
    "                acrossp[j]=peritem[j]\n",
    "            else:\n",
    "                acrossp[j]+=peritem[j]\n",
    "    for all in acrossp:\n",
    "        print(\"final \",all,acrossp[all],acrossp[all]/len(perpatient))\n",
    "    print(countmatch,\" vs \",count)\n",
    "\n"
   ]
  },
  {
   "cell_type": "code",
   "execution_count": 369,
   "metadata": {},
   "outputs": [
    {
     "name": "stdout",
     "output_type": "stream",
     "text": [
      "\n",
      "0 \t 0 \t 20 \t 143 \t 7.15\n",
      "0 \t 4 \t 30 \t 120 \t 4.0\n",
      "0 \t 1 \t 43 \t 90 \t 2.0930232558139537\n",
      "0 \t 2 \t 49 \t 259 \t 5.285714285714286\n",
      "0 \t 3 \t 36 \t 225 \t 6.25\n",
      "\n",
      "1 \t 0 \t 32 \t 234 \t 7.3125\n",
      "1 \t 4 \t 47 \t 170 \t 3.617021276595745\n",
      "1 \t 1 \t 45 \t 93 \t 2.066666666666667\n",
      "1 \t 2 \t 60 \t 309 \t 5.15\n",
      "1 \t 3 \t 43 \t 282 \t 6.558139534883721\n",
      "\n",
      "2 \t 0 \t 28 \t 219 \t 7.821428571428571\n",
      "2 \t 4 \t 40 \t 162 \t 4.05\n",
      "2 \t 1 \t 44 \t 91 \t 2.0681818181818183\n",
      "2 \t 2 \t 54 \t 284 \t 5.2592592592592595\n",
      "2 \t 3 \t 41 \t 265 \t 6.463414634146342\n",
      "\n",
      "3 \t 0 \t 27 \t 216 \t 8.0\n",
      "3 \t 4 \t 38 \t 153 \t 4.026315789473684\n",
      "3 \t 1 \t 44 \t 91 \t 2.0681818181818183\n",
      "3 \t 2 \t 51 \t 264 \t 5.176470588235294\n",
      "3 \t 3 \t 38 \t 227 \t 5.973684210526316\n",
      "\n",
      "4 \t 0 \t 33 \t 236 \t 7.151515151515151\n",
      "4 \t 4 \t 58 \t 232 \t 4.0\n",
      "4 \t 1 \t 51 \t 99 \t 1.9411764705882353\n",
      "4 \t 2 \t 74 \t 373 \t 5.04054054054054\n",
      "4 \t 3 \t 48 \t 295 \t 6.145833333333333\n",
      "\n",
      "5 \t 0 \t 5 \t 63 \t 12.6\n",
      "5 \t 4 \t 19 \t 72 \t 3.789473684210526\n",
      "5 \t 1 \t 28 \t 61 \t 2.1785714285714284\n",
      "5 \t 2 \t 47 \t 253 \t 5.382978723404255\n",
      "5 \t 3 \t 33 \t 222 \t 6.7272727272727275\n",
      "\n",
      "6 \t 0 \t 20 \t 134 \t 6.7\n",
      "6 \t 4 \t 30 \t 120 \t 4.0\n",
      "6 \t 1 \t 43 \t 90 \t 2.0930232558139537\n",
      "6 \t 2 \t 49 \t 259 \t 5.285714285714286\n",
      "6 \t 3 \t 36 \t 225 \t 6.25\n",
      "\n",
      "7 \t 0 \t 28 \t 219 \t 7.821428571428571\n",
      "7 \t 4 \t 40 \t 162 \t 4.05\n",
      "7 \t 1 \t 44 \t 91 \t 2.0681818181818183\n",
      "7 \t 2 \t 52 \t 271 \t 5.211538461538462\n",
      "7 \t 3 \t 38 \t 227 \t 5.973684210526316\n",
      "\n",
      "8 \t 0 \t 33 \t 236 \t 7.151515151515151\n",
      "8 \t 4 \t 51 \t 178 \t 3.4901960784313726\n",
      "8 \t 1 \t 47 \t 95 \t 2.021276595744681\n",
      "8 \t 2 \t 65 \t 337 \t 5.184615384615385\n",
      "8 \t 3 \t 43 \t 282 \t 6.558139534883721\n",
      "\n",
      "9 \t 0 \t 33 \t 236 \t 7.151515151515151\n",
      "9 \t 4 \t 51 \t 178 \t 3.4901960784313726\n",
      "9 \t 1 \t 47 \t 95 \t 2.021276595744681\n",
      "9 \t 2 \t 65 \t 340 \t 5.230769230769231\n",
      "9 \t 3 \t 43 \t 282 \t 6.558139534883721\n",
      "0 0 7.15\n",
      "0 4 4.0\n",
      "0 1 2.0930232558139537\n",
      "0 2 5.285714285714286\n",
      "0 3 6.25\n",
      "1 0 7.3125\n",
      "1 4 3.617021276595745\n",
      "1 1 2.066666666666667\n",
      "1 2 5.15\n",
      "1 3 6.558139534883721\n",
      "2 0 7.821428571428571\n",
      "2 4 4.05\n",
      "2 1 2.0681818181818183\n",
      "2 2 5.2592592592592595\n",
      "2 3 6.463414634146342\n",
      "3 0 8.0\n",
      "3 4 4.026315789473684\n",
      "3 1 2.0681818181818183\n",
      "3 2 5.176470588235294\n",
      "3 3 5.973684210526316\n",
      "4 0 7.151515151515151\n",
      "4 4 4.0\n",
      "4 1 1.9411764705882353\n",
      "4 2 5.04054054054054\n",
      "4 3 6.145833333333333\n",
      "5 0 12.6\n",
      "5 4 3.789473684210526\n",
      "5 1 2.1785714285714284\n",
      "5 2 5.382978723404255\n",
      "5 3 6.7272727272727275\n",
      "6 0 6.7\n",
      "6 4 4.0\n",
      "6 1 2.0930232558139537\n",
      "6 2 5.285714285714286\n",
      "6 3 6.25\n",
      "7 0 7.821428571428571\n",
      "7 4 4.05\n",
      "7 1 2.0681818181818183\n",
      "7 2 5.211538461538462\n",
      "7 3 5.973684210526316\n",
      "8 0 7.151515151515151\n",
      "8 4 3.4901960784313726\n",
      "8 1 2.021276595744681\n",
      "8 2 5.184615384615385\n",
      "8 3 6.558139534883721\n",
      "9 0 7.151515151515151\n",
      "9 4 3.4901960784313726\n",
      "9 1 2.021276595744681\n",
      "9 2 5.230769230769231\n",
      "9 3 6.558139534883721\n",
      "final  0 78.85990259740261 7.885990259740261\n",
      "final  4 38.513202907142706 3.8513202907142707\n",
      "final  1 20.619559723489054 2.0619559723489056\n",
      "final  2 52.207600759791 5.2207600759791\n",
      "final  3 63.4583077204562 6.34583077204562\n",
      "7884  vs  9850\n"
     ]
    }
   ],
   "source": [
    "record_statistics(test_ds,y_pred,gt=False)"
   ]
  },
  {
   "cell_type": "markdown",
   "metadata": {},
   "source": [
    "## Going further\n",
    "\n",
    "You've now covered all the material for this tutorial!\n",
    "\n",
    "To test what you have learned, we recommend you identify a few key elements in the pipeline shown above, and play with them to try to improve the performance of your ConvNet. Here are a few ideas to get you started:\n",
    "- Increasing the training set size\n",
    "- Improving the architecture (you can look at recent sleep staging literature, or follow your intuition!)\n",
    "- Optimizing the training hyperparameters (learning rate, batch size, etc.)\n",
    "\n",
    "Good luck! :)"
   ]
  }
 ],
 "metadata": {
  "kernelspec": {
   "display_name": "Python 3",
   "language": "python",
   "name": "python3"
  },
  "language_info": {
   "codemirror_mode": {
    "name": "ipython",
    "version": 3
   },
   "file_extension": ".py",
   "mimetype": "text/x-python",
   "name": "python",
   "nbconvert_exporter": "python",
   "pygments_lexer": "ipython3",
   "version": "3.8.3"
  }
 },
 "nbformat": 4,
 "nbformat_minor": 4
}
